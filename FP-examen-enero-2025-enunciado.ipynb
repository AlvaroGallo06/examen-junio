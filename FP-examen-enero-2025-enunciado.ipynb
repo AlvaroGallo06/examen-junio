{
 "cells": [
  {
   "cell_type": "markdown",
   "id": "e048be7b",
   "metadata": {},
   "source": [
    "## Fundamentos de la Programación (CDIA)\n",
    "### Convocatoria ordinaria, enero de 2025"
   ]
  },
  {
   "cell_type": "markdown",
   "id": "89ba52af",
   "metadata": {},
   "source": [
    "**Nombre:**\n",
    "\n",
    "**Apellidos:**"
   ]
  },
  {
   "cell_type": "markdown",
   "id": "dd00b8d4",
   "metadata": {},
   "source": [
    "### Enunciado\n",
    "Se desea implementar una solución que gestione una **sala de cine** para ello se deben definir las siguientes clases:\n",
    "- Clase **Butaca**, define una butaca de una sala. \n",
    "- Clase **Sala**, define una sala del cine que tendrá una serie de filas y columnas compuestas por *butacas*.\n"
   ]
  },
  {
   "cell_type": "markdown",
   "id": "6670ad42",
   "metadata": {},
   "source": [
    "### Clase `Butaca`.\n",
    "\n",
    "La clase **Butaca**, define una butaca de una sala. Para su implementación se deberá hacer uso de la clase **TipoButaca** proporcionada. La clase **Butaca** tendrá la siguiente *interfaz pública*:\n",
    "  - Propiedad **tipo:str**, devuelve el *tipo de butaca*: `HUECO`, `NORMAL`, `MEDIA` o `SUPERIOR`.\n",
    "  - Propiedad **precio:float**, proporciona el precio de la butaca fijado en función del *tipo de butaca*.\n",
    "  - Propiedad **ocupada:bool**, devuelve *True* si la butaca está opcuada y *False* en caso contrario.\n",
    "  - Propiedad **libre:bool**, devuelve *True* si la butaca está libre y *False* en caso contrario.\n",
    "  - Método **\\_\\_init\\_\\_**, se podrá invocar de 3 formas diferentes:\n",
    "    - Sin parámetros. Creará una butaca *libre* de tipo `NORMAL`.\n",
    "    - Con un parámetro **tipo:TipoButaca**. Creará una butaca *libre* de tipo indicado por el parámetro.\n",
    "    - Con los parámetros **tipo:TipoButaca** y **ocupada:bool**. Creará una butaca del tipo indicado por el primer parámetro cuya *ocupación* dependerá del valor del segundo parámetro.\n",
    "  - Método **ocupar**, sin parámetros, cambia a *ocupada* la *butaca*.\n",
    "  - Método **liberar**, sin parámetros, cambia a *libre* la *butaca*.\n",
    "  - Método **modificar_tipo**, con un parámetro **nuevo_tipo:TipoButaca**. Cambiará el tipo de la butaca al indicado por el parámetro.\n",
    "  \n",
    "**NOTA**: \n",
    " - Las butacas de tipo **HUECO** siempre estarán *ocupadas*, no se podrán crear como butacas *libres* ni *liberarlas*.\n",
    " - Las propiedades deben ser inmutables desde fuera de la clase, lo que refuerza el principio de encapsulación. Solo se puede modificar el estado de una butaca mediante los métodos definidos. \n",
    " - En caso de no saber utilizar la clase enumerada **TipoButaca** se podrán utilizar las variables de instancia que se consideren necesarias para cumplir con la funcionalidad solicitada.\n",
    " - Se podrán definir todos los métodos que se consideren necesarios para cumplir con la funcionalidad solicitada."
   ]
  },
  {
   "cell_type": "code",
   "execution_count": null,
   "id": "1923947e",
   "metadata": {
    "ExecuteTime": {
     "end_time": "2024-12-27T19:58:25.873225Z",
     "start_time": "2024-12-27T19:58:25.864510Z"
    }
   },
   "outputs": [],
   "source": [
    "from enum import Enum\n",
    "\n",
    "class TipoButaca(Enum):\n",
    "    HUECO = 0.0\n",
    "    NORMAL = 8.0\n",
    "    MEDIO = 12.0\n",
    "    SUPERIOR = 20.0\n",
    "    \n",
    "    def __init__(self, precio:float):\n",
    "        self.__precio = precio\n",
    "        \n",
    "    @property\n",
    "    def precio(self) -> float:\n",
    "        return self.__precio   "
   ]
  },
  {
   "cell_type": "code",
   "execution_count": null,
   "id": "b992b6fa",
   "metadata": {
    "ExecuteTime": {
     "end_time": "2024-12-27T19:58:27.598386Z",
     "start_time": "2024-12-27T19:58:27.580674Z"
    }
   },
   "outputs": [],
   "source": [
    "# Definición de la clase Butaca"
   ]
  },
  {
   "cell_type": "markdown",
   "id": "437cad6f",
   "metadata": {},
   "source": [
    "### Comprobaciones. \n",
    "#### El comportamiento de la clase `Butaca` deberá ser el mostrado en los bloques `Salida esperada`, resultado de la ejecución de las celdas de código precedentes. No se debe modificar ninguna de las celdas de código definidas, simplemente ejecutar su contenido para validar/comparar respecto a los resultados esperados."
   ]
  },
  {
   "cell_type": "markdown",
   "id": "c0fb0989",
   "metadata": {},
   "source": [
    "#### 1.- El constructor sin parámetros crea una butaca `libre` de tipo `Normal`."
   ]
  },
  {
   "cell_type": "code",
   "execution_count": null,
   "id": "457a0932",
   "metadata": {
    "ExecuteTime": {
     "end_time": "2024-12-27T19:58:30.817229Z",
     "start_time": "2024-12-27T19:58:30.803172Z"
    },
    "scrolled": true
   },
   "outputs": [],
   "source": [
    "butaca = Butaca()\n",
    "print('butaca         =', butaca)\n",
    "print(f'{butaca.tipo    = }')\n",
    "print(f'{butaca.precio  = }')\n",
    "print(f'{butaca.ocupada = }')\n",
    "print(f'{butaca.libre   = }')\n",
    "butaca"
   ]
  },
  {
   "cell_type": "markdown",
   "id": "3b8b6281",
   "metadata": {},
   "source": [
    "**Salida esperada:**\n",
    "```python\n",
    "butaca         = tipo NORMAL   (precio  8.00€) -libre-\n",
    "butaca.tipo    = 'NORMAL'\n",
    "butaca.precio  = 8.0\n",
    "butaca.ocupada = False\n",
    "butaca.libre   = True\n",
    "Butaca(TipoButaca.NORMAL, False)\n",
    "```"
   ]
  },
  {
   "cell_type": "markdown",
   "id": "be079dd2",
   "metadata": {},
   "source": [
    "#### 2.- El constructor con un parámetro crea una butaca `libre` del tipo indicado en el parámetro. \n",
    "- El párametro proporcionado deberá se de tipo `TipoButaca`.\n",
    "- En caso de que el tipo sea `HUECO` la butaca se creará como `ocupada`."
   ]
  },
  {
   "cell_type": "code",
   "execution_count": null,
   "id": "48db039c",
   "metadata": {
    "ExecuteTime": {
     "end_time": "2024-12-27T19:58:32.202511Z",
     "start_time": "2024-12-27T19:58:32.195068Z"
    },
    "scrolled": false
   },
   "outputs": [],
   "source": [
    "butaca = Butaca(\"NORMAL\", False)"
   ]
  },
  {
   "cell_type": "markdown",
   "id": "2df38273",
   "metadata": {},
   "source": [
    "**Salida esperada:** Se lanza una excepción\n",
    "```python\n",
    "ValueError: El tipo debe ser una instancia de TipoButaca \n",
    "```"
   ]
  },
  {
   "cell_type": "code",
   "execution_count": null,
   "id": "4bfa6283",
   "metadata": {
    "ExecuteTime": {
     "end_time": "2024-12-27T19:58:34.037549Z",
     "start_time": "2024-12-27T19:58:34.025072Z"
    },
    "scrolled": false
   },
   "outputs": [],
   "source": [
    "butaca = Butaca(TipoButaca.SUPERIOR)\n",
    "print('butaca         =', butaca)\n",
    "print(f'{butaca.tipo    = }')\n",
    "print(f'{butaca.precio  = }')\n",
    "print(f'{butaca.ocupada = }')\n",
    "print(f'{butaca.libre   = }')\n",
    "butaca"
   ]
  },
  {
   "cell_type": "markdown",
   "id": "f313d602",
   "metadata": {},
   "source": [
    "**Salida esperada:**\n",
    "```python\n",
    "butaca         = tipo SUPERIOR (precio 20.00€) -libre-\n",
    "butaca.tipo    = 'SUPERIOR'\n",
    "butaca.precio  = 20.0\n",
    "butaca.ocupada = False\n",
    "butaca.libre   = True\n",
    "Butaca(TipoButaca.SUPERIOR, False)\n",
    "```"
   ]
  },
  {
   "cell_type": "code",
   "execution_count": null,
   "id": "db94fa65",
   "metadata": {
    "ExecuteTime": {
     "end_time": "2024-12-27T19:58:40.197536Z",
     "start_time": "2024-12-27T19:58:40.185059Z"
    },
    "scrolled": true
   },
   "outputs": [],
   "source": [
    "butaca = Butaca(TipoButaca.HUECO)\n",
    "print('butaca         =', butaca)\n",
    "print(f'{butaca.tipo    = }')\n",
    "print(f'{butaca.precio  = }')\n",
    "print(f'{butaca.ocupada = }')\n",
    "print(f'{butaca.libre   = }')\n",
    "butaca"
   ]
  },
  {
   "cell_type": "markdown",
   "id": "d1250470",
   "metadata": {},
   "source": [
    "**Salida esperada:**\n",
    "```python\n",
    "butaca         = tipo HUECO    (precio  0.00€) -ocupada-\n",
    "butaca.tipo    = 'HUECO'\n",
    "butaca.precio  = 0.0\n",
    "butaca.ocupada = True\n",
    "butaca.libre   = False\n",
    "Butaca(TipoButaca.HUECO, True)\n",
    "```"
   ]
  },
  {
   "cell_type": "markdown",
   "id": "49110b84",
   "metadata": {},
   "source": [
    "#### 3.- El constructor con dos parámetros crea una butaca del tipo indicado en el primer parámetro cuya *ocupación* dependerá del valor del segundo parámetro.\n",
    "- En caso de que el tipo sea `HUECO` la butaca se creará como `ocupada` independientemente del valor del segundo parámetro."
   ]
  },
  {
   "cell_type": "code",
   "execution_count": null,
   "id": "180ab867",
   "metadata": {
    "ExecuteTime": {
     "end_time": "2024-12-27T19:58:45.127546Z",
     "start_time": "2024-12-27T19:58:45.114985Z"
    }
   },
   "outputs": [],
   "source": [
    "butaca = Butaca(TipoButaca.SUPERIOR, True)\n",
    "print('butaca         =', butaca)\n",
    "print(f'{butaca.tipo    = }')\n",
    "print(f'{butaca.precio  = }')\n",
    "print(f'{butaca.ocupada = }')\n",
    "print(f'{butaca.libre   = }')\n",
    "butaca"
   ]
  },
  {
   "cell_type": "markdown",
   "id": "e2b9e8d4",
   "metadata": {},
   "source": [
    "**Salida esperada:**\n",
    "```python\n",
    "butaca         = tipo SUPERIOR (precio 20.00€) -ocupada-\n",
    "butaca.tipo    = 'SUPERIOR'\n",
    "butaca.precio  = 20.0\n",
    "butaca.ocupada = True\n",
    "butaca.libre   = False\n",
    "Butaca(TipoButaca.SUPERIOR, True)\n",
    "```"
   ]
  },
  {
   "cell_type": "code",
   "execution_count": null,
   "id": "af6a734d",
   "metadata": {
    "ExecuteTime": {
     "end_time": "2024-12-27T19:58:47.136937Z",
     "start_time": "2024-12-27T19:58:47.124791Z"
    }
   },
   "outputs": [],
   "source": [
    "butaca = Butaca(TipoButaca.HUECO, False)\n",
    "print('butaca         =', butaca)\n",
    "print(f'{butaca.tipo    = }')\n",
    "print(f'{butaca.precio  = }')\n",
    "print(f'{butaca.ocupada = }')\n",
    "print(f'{butaca.libre = }')\n",
    "butaca"
   ]
  },
  {
   "cell_type": "markdown",
   "id": "2c70bc98",
   "metadata": {},
   "source": [
    "**Salida esperada:**\n",
    "```python\n",
    "butaca         = tipo HUECO    (precio  0.00€) -ocupada-\n",
    "butaca.tipo    = 'HUECO'\n",
    "butaca.precio  = 0.0\n",
    "butaca.ocupada = True\n",
    "butaca.libre = False\n",
    "Butaca(TipoButaca.HUECO, True)\n",
    "```"
   ]
  },
  {
   "cell_type": "markdown",
   "id": "cff5c3b0",
   "metadata": {},
   "source": [
    "#### 4.- Las butacas tipo `NORMAL`, `MEDIO` o `SUPERIOR` se pueden liberar, ocupar y modificar. "
   ]
  },
  {
   "cell_type": "code",
   "execution_count": null,
   "id": "4a642d27",
   "metadata": {
    "ExecuteTime": {
     "end_time": "2024-12-27T19:58:50.326373Z",
     "start_time": "2024-12-27T19:58:50.314882Z"
    }
   },
   "outputs": [],
   "source": [
    "butaca = Butaca(TipoButaca.MEDIO)\n",
    "print('butaca =', butaca)\n",
    "butaca.ocupar()\n",
    "print('butaca =', butaca)\n",
    "butaca.ocupar()\n",
    "butaca.liberar()\n",
    "print('butaca =', butaca)\n",
    "butaca.liberar()"
   ]
  },
  {
   "cell_type": "markdown",
   "id": "dc09f62c",
   "metadata": {},
   "source": [
    "**Salida esperada:**\n",
    "```python\n",
    "butaca = tipo MEDIO    (precio 12.00€) -libre-\n",
    "Butaca ocupada.\n",
    "butaca = tipo MEDIO    (precio 12.00€) -ocupada-\n",
    "¡La butaca ya está ocupada!\n",
    "Butaca liberada.\n",
    "butaca = tipo MEDIO    (precio 12.00€) -libre-\n",
    "¡La butaca ya está libre!\n",
    "```"
   ]
  },
  {
   "cell_type": "markdown",
   "id": "3768a9ee",
   "metadata": {},
   "source": [
    "- Las butacas de tipo `HUECO` no se pueden ocupar ni liberar."
   ]
  },
  {
   "cell_type": "code",
   "execution_count": null,
   "id": "c8c35764",
   "metadata": {
    "ExecuteTime": {
     "end_time": "2024-12-27T19:58:53.073697Z",
     "start_time": "2024-12-27T19:58:53.064842Z"
    }
   },
   "outputs": [],
   "source": [
    "butaca = Butaca(TipoButaca.HUECO)\n",
    "print('butaca =', butaca)\n",
    "butaca.liberar()\n",
    "print('butaca =', butaca)"
   ]
  },
  {
   "cell_type": "markdown",
   "id": "700dc295",
   "metadata": {},
   "source": [
    "**Salida esperada:**\n",
    "```python\n",
    "butaca = tipo HUECO    (precio  0.00€) -ocupada-\n",
    "Los huecos no pueden ser liberados.\n",
    "butaca = tipo HUECO    (precio  0.00€) -ocupada-\n",
    "```"
   ]
  },
  {
   "cell_type": "code",
   "execution_count": null,
   "id": "66750f34",
   "metadata": {
    "ExecuteTime": {
     "end_time": "2024-12-27T19:58:54.092959Z",
     "start_time": "2024-12-27T19:58:54.084840Z"
    }
   },
   "outputs": [],
   "source": [
    "print('butaca =', butaca)\n",
    "butaca.ocupar()\n",
    "print('butaca =', butaca)"
   ]
  },
  {
   "cell_type": "markdown",
   "id": "f9a625d7",
   "metadata": {},
   "source": [
    "**Salida esperada:**\n",
    "```python\n",
    "butaca = tipo HUECO    (precio  0.00€) -ocupada-\n",
    "Los huecos siempre están ocupados.\n",
    "butaca = tipo HUECO    (precio  0.00€) -ocupada-\n",
    "```"
   ]
  },
  {
   "cell_type": "markdown",
   "id": "e173195b",
   "metadata": {},
   "source": [
    " - Cuando se cambia una butaca de tipo `NORMAL`, `MEDIO` o `SUPERIOR` a tipo `HUECO` pasará a estar ocupada independientemente de su estado inicial."
   ]
  },
  {
   "cell_type": "code",
   "execution_count": null,
   "id": "9aed217d",
   "metadata": {
    "ExecuteTime": {
     "end_time": "2024-12-27T19:58:55.826605Z",
     "start_time": "2024-12-27T19:58:55.817510Z"
    }
   },
   "outputs": [],
   "source": [
    "butaca = Butaca(TipoButaca.MEDIO)\n",
    "print('butaca =', butaca)\n",
    "butaca.modificar_tipo(TipoButaca.HUECO)\n",
    "print('butaca =', butaca)"
   ]
  },
  {
   "cell_type": "markdown",
   "id": "d001bda9",
   "metadata": {},
   "source": [
    "**Salida esperada:**\n",
    "```python\n",
    "butaca = tipo MEDIO    (precio 12.00€) -libre-\n",
    "Cambiando la butaca de tipo MEDIO a HUECO.\n",
    "butaca = tipo HUECO    (precio  0.00€) -ocupada-\n",
    "```"
   ]
  },
  {
   "cell_type": "markdown",
   "id": "9cb585b2",
   "metadata": {},
   "source": [
    " - Cuando se cambia una butaca de tipo `HUECO` a tipo `NORMAL`, `MEDIO` o `SUPERIOR` se libera la butaca."
   ]
  },
  {
   "cell_type": "code",
   "execution_count": null,
   "id": "15e74bc3",
   "metadata": {
    "ExecuteTime": {
     "end_time": "2024-12-27T19:58:57.266003Z",
     "start_time": "2024-12-27T19:58:57.257713Z"
    },
    "scrolled": true
   },
   "outputs": [],
   "source": [
    "print('butaca =', butaca)\n",
    "butaca.modificar_tipo(TipoButaca.MEDIO)\n",
    "print('butaca =', butaca)"
   ]
  },
  {
   "cell_type": "markdown",
   "id": "e64449aa",
   "metadata": {},
   "source": [
    "**Salida esperada:**\n",
    "```python\n",
    "butaca = tipo HUECO    (precio  0.00€) -ocupada-\n",
    "Cambiando la butaca de tipo HUECO a MEDIO.\n",
    "butaca = tipo MEDIO    (precio 12.00€) -libre-\n",
    "```"
   ]
  },
  {
   "cell_type": "markdown",
   "id": "44dec2ae",
   "metadata": {},
   "source": [
    " - Cuando se cambia ente tipos distintos al tipo `HUECO` se mantiene la ocupación."
   ]
  },
  {
   "cell_type": "code",
   "execution_count": null,
   "id": "dcbd95ca",
   "metadata": {
    "ExecuteTime": {
     "end_time": "2024-12-27T19:58:58.983140Z",
     "start_time": "2024-12-27T19:58:58.974864Z"
    },
    "scrolled": true
   },
   "outputs": [],
   "source": [
    "print('butaca =', butaca)\n",
    "butaca.modificar_tipo(TipoButaca.SUPERIOR)\n",
    "print('butaca =', butaca)"
   ]
  },
  {
   "cell_type": "markdown",
   "id": "960f2969",
   "metadata": {},
   "source": [
    "**Salida esperada:**\n",
    "```python\n",
    "butaca = tipo MEDIO    (precio 12.00€) -libre-\n",
    "Cambiando la butaca de tipo MEDIO a SUPERIOR.\n",
    "butaca = tipo SUPERIOR (precio 20.00€) -libre-\n",
    "```"
   ]
  },
  {
   "cell_type": "code",
   "execution_count": null,
   "id": "398f1327",
   "metadata": {
    "ExecuteTime": {
     "end_time": "2024-12-27T19:59:00.154838Z",
     "start_time": "2024-12-27T19:59:00.145938Z"
    },
    "scrolled": true
   },
   "outputs": [],
   "source": [
    "butaca.ocupar()\n",
    "print('butaca =', butaca)\n",
    "butaca.modificar_tipo(TipoButaca.NORMAL)\n",
    "print('butaca =', butaca)"
   ]
  },
  {
   "cell_type": "markdown",
   "id": "0af77ff9",
   "metadata": {},
   "source": [
    "**Salida esperada:**\n",
    "```python\n",
    "Butaca ocupada.\n",
    "butaca = tipo SUPERIOR (precio 20.00€) -ocupada-\n",
    "Cambiando la butaca de tipo SUPERIOR a NORMAL.\n",
    "butaca = tipo NORMAL   (precio  8.00€) -ocupada-\n",
    "```"
   ]
  },
  {
   "cell_type": "markdown",
   "id": "fbfe806f",
   "metadata": {},
   "source": [
    " - El párametro proporcionado a `modificar_tipo` deberá se de tipo `TipoButaca`."
   ]
  },
  {
   "cell_type": "code",
   "execution_count": null,
   "id": "2a4998c6",
   "metadata": {
    "ExecuteTime": {
     "end_time": "2024-12-27T19:59:02.244866Z",
     "start_time": "2024-12-27T19:59:02.237811Z"
    }
   },
   "outputs": [],
   "source": [
    "butaca.modificar_tipo(\"SUPERIOR\")"
   ]
  },
  {
   "cell_type": "markdown",
   "id": "6eb3da4a",
   "metadata": {},
   "source": [
    "**Salida esperada:** Se lanza una excepción\n",
    "```python\n",
    "ValueError: El tipo debe ser una instancia de TipoButaca \n",
    "```"
   ]
  },
  {
   "cell_type": "markdown",
   "id": "27b86a71",
   "metadata": {},
   "source": [
    "#### 5.- No se permite la asignación de valores directamente a los atributos/propiedades de la clase."
   ]
  },
  {
   "cell_type": "code",
   "execution_count": null,
   "id": "4ad3e7cb",
   "metadata": {
    "ExecuteTime": {
     "end_time": "2024-12-27T19:59:10.662415Z",
     "start_time": "2024-12-27T19:59:10.654947Z"
    }
   },
   "outputs": [],
   "source": [
    "butaca = Butaca()\n",
    "butaca.tipo = TipoButaca.SUPERIOR"
   ]
  },
  {
   "cell_type": "markdown",
   "id": "def1fe9a",
   "metadata": {},
   "source": [
    "**Salida esperada:** Se lanza una excepción\n",
    "```\n",
    " AttributeError: can't set attribute \n",
    "```"
   ]
  },
  {
   "cell_type": "code",
   "execution_count": null,
   "id": "39be76c6",
   "metadata": {
    "ExecuteTime": {
     "end_time": "2024-12-27T19:59:11.891614Z",
     "start_time": "2024-12-27T19:59:11.884349Z"
    },
    "scrolled": true
   },
   "outputs": [],
   "source": [
    "butaca.precio = 100.00"
   ]
  },
  {
   "cell_type": "markdown",
   "id": "6a64bcaa",
   "metadata": {},
   "source": [
    "**Salida esperada:** Se lanza una excepción\n",
    "```\n",
    " AttributeError: can't set attribute \n",
    "```"
   ]
  },
  {
   "cell_type": "code",
   "execution_count": null,
   "id": "ddbd2974",
   "metadata": {
    "ExecuteTime": {
     "end_time": "2024-12-27T19:59:12.681840Z",
     "start_time": "2024-12-27T19:59:12.674477Z"
    },
    "scrolled": true
   },
   "outputs": [],
   "source": [
    "butaca.ocupada = True"
   ]
  },
  {
   "cell_type": "markdown",
   "id": "5111ca3e",
   "metadata": {},
   "source": [
    "**Salida esperada:** Se lanza una excepción\n",
    "```\n",
    " AttributeError: can't set attribute \n",
    "```"
   ]
  },
  {
   "cell_type": "code",
   "execution_count": null,
   "id": "43d6131e",
   "metadata": {
    "ExecuteTime": {
     "end_time": "2024-12-27T19:59:13.471662Z",
     "start_time": "2024-12-27T19:59:13.464363Z"
    }
   },
   "outputs": [],
   "source": [
    "butaca.libre = False"
   ]
  },
  {
   "cell_type": "markdown",
   "id": "5f89220d",
   "metadata": {},
   "source": [
    "**Salida esperada:** Se lanza una excepción\n",
    "```\n",
    " AttributeError: can't set attribute \n",
    "```"
   ]
  },
  {
   "cell_type": "markdown",
   "id": "c0086a42",
   "metadata": {},
   "source": [
    "### Clase `Sala `.\n",
    "La clase **Sala**, define una sala del cine que tendrá una serie de filas y columnas compuestas por butacas. Para su implementación se deberá hacer uso de la clase **Butaca** implementada en el paso anterior. La clase **Sala** tendrá la siguiente *interfaz pública*:\n",
    "  - Propiedad **butacas_libres:int**, proporciona el número de butacas libres de la sala.\n",
    "  - Propiedad **sala_llena:bool**, indica si la sala está completa, si no tiene butacas libres.\n",
    "  - Método **\\_\\_init\\_\\_** con parámetros **fila:int** y **columna:int**. Crea una sala con las filas y columnas indicadas compuesta por *butacas libres* con la siguiente configuración inicial:\n",
    "   - El número de filas y de columnas debera ser de tipo entero. El número mínimo de columnas y de filas será de 3 y 3 respectivamente.\n",
    "   - Todas las butacas serán inicialmente de tipo `NORMAL` a excepción de las butacas de la fila 0 (la más cercana a la pantalla) que serán por defecto de tipo `MEDIO`.\n",
    "  - Método **butaca_libre** con parámetros **fila:int** y **columna:int**. Indica si la *butaca* en la posición fijada por los parámetros está *libre*.\n",
    "  - Método **recuperar_butaca** con parámetros **fila:int** y **columna:int**. Recupera la *butaca* indicada por los parámetros.\n",
    "  - Método **ocupar_butaca** con parámetros **fila:int** y **columna:int**. Fija la *butaca* indicada por los parámetros como *ocupada*.\n",
    "  - Método **liberar_butaca** con parámetros **fila:int** y **columna:int**. Fija la *butaca* indicada por los parámetros como *libre*.\n",
    "  - Método **modificar_butaca** con parámetros **fila:int**,  **columna:int** y **nuevo_tipo:TipoButaca**. Permite modificar el tipo de la *butaca* indicada por los parámetros **fila** y **columna**.\n",
    "  - Método **buscar_butaca_libre**. Permite recorrer la *sala*  mostrando en cada llamada la siguiente butaca *libre* disponible, junto con la *fila* y *columna* en la que se encuentra. El recorrido partirá de las filas con numeración más alta.\n",
    "  - Método **recaudacion**, proporciona el estado de la recaudación de la sala en función de las butacas ocupadas.\n",
    "  \n",
    "**NOTA**: \n",
    " - Las butacas de tipo **HUECO** siempre estarán *ocupadas*, no se podrán crear ni modificar como *libres*.\n",
    " - Las propiedades son de tipo lectura, no se podrá modificar su contenido asignándoles valor directamente. \n",
    " - Todos los métodos que acceden a una *butaca* deben comprobar la validez de la fila y la columna proporcionada.\n",
    " - En caso de no haber implementado correctamente la clase **Butaca** se podrá utilizar la siguiente estructura de datos alternativa para representar a una butaca:\n",
    "```python\n",
    "  {'tipo':str, 'precio':float, 'ocupada':bool, 'libre':bool}\n",
    "```\n",
    " - Se podrán definir todos los métodos que se consideren necesarios para cumplir con la funcionalidad solicitada."
   ]
  },
  {
   "cell_type": "code",
   "execution_count": null,
   "id": "31d73b0c",
   "metadata": {
    "ExecuteTime": {
     "end_time": "2024-12-27T19:59:15.349203Z",
     "start_time": "2024-12-27T19:59:15.326683Z"
    }
   },
   "outputs": [],
   "source": [
    "# Definición de la clase Sala"
   ]
  },
  {
   "cell_type": "markdown",
   "id": "b388b4a1",
   "metadata": {},
   "source": [
    "### Comprobaciones. \n",
    "#### El comportamiento de la clase `Sala` deberá ser el mostrado en los bloques `Salida esperada`, resultado de la ejecución de las celdas de código precedentes. No se debe modificar ninguna de las celdas de código definidas, simplemente ejecutar su contenido para validar/comparar respecto a los resultados esperados."
   ]
  },
  {
   "cell_type": "markdown",
   "id": "70453f7f",
   "metadata": {},
   "source": [
    "#### 1.- Crear una sala y visualizarla. "
   ]
  },
  {
   "cell_type": "code",
   "execution_count": null,
   "id": "cdd7c0f7",
   "metadata": {
    "ExecuteTime": {
     "end_time": "2024-12-27T19:59:17.322279Z",
     "start_time": "2024-12-27T19:59:17.312593Z"
    },
    "scrolled": true
   },
   "outputs": [],
   "source": [
    "sala_01 = Sala('a', 'b')"
   ]
  },
  {
   "cell_type": "markdown",
   "id": "c7dd3dfa",
   "metadata": {},
   "source": [
    "**Salida esperada:** Se lanza una excepción\n",
    "```python\n",
    "ValueError: Valor de filas y/o columnas incorrecto \n",
    "```"
   ]
  },
  {
   "cell_type": "code",
   "execution_count": null,
   "id": "3c078f06",
   "metadata": {
    "ExecuteTime": {
     "end_time": "2024-12-27T19:59:27.152345Z",
     "start_time": "2024-12-27T19:59:27.144931Z"
    },
    "scrolled": true
   },
   "outputs": [],
   "source": [
    "sala_01 = Sala(5, 2)"
   ]
  },
  {
   "cell_type": "markdown",
   "id": "11d68af0",
   "metadata": {},
   "source": [
    "**Salida esperada:** Se lanza una excepción\n",
    "```python\n",
    "ValueError: Valor de filas y/o columnas incorrecto \n",
    "```"
   ]
  },
  {
   "cell_type": "code",
   "execution_count": null,
   "id": "8ee2b5e7",
   "metadata": {
    "ExecuteTime": {
     "end_time": "2024-12-27T19:59:30.271956Z",
     "start_time": "2024-12-27T19:59:30.264903Z"
    },
    "scrolled": true
   },
   "outputs": [],
   "source": [
    "print(Sala())"
   ]
  },
  {
   "cell_type": "markdown",
   "id": "a93466cf",
   "metadata": {},
   "source": [
    "**Salida esperada:**\n",
    "```python\n",
    "  fila 2, columna 0: tipo NORMAL   (precio  8.00€) -libre-\n",
    "  fila 2, columna 1: tipo NORMAL   (precio  8.00€) -libre-\n",
    "  fila 2, columna 2: tipo NORMAL   (precio  8.00€) -libre-\n",
    "\n",
    "  fila 1, columna 0: tipo NORMAL   (precio  8.00€) -libre-\n",
    "  fila 1, columna 1: tipo NORMAL   (precio  8.00€) -libre-\n",
    "  fila 1, columna 2: tipo NORMAL   (precio  8.00€) -libre-\n",
    "\n",
    "  fila 0, columna 0: tipo MEDIO    (precio 12.00€) -libre-\n",
    "  fila 0, columna 1: tipo MEDIO    (precio 12.00€) -libre-\n",
    "  fila 0, columna 2: tipo MEDIO    (precio 12.00€) -libre-\n",
    "```"
   ]
  },
  {
   "cell_type": "code",
   "execution_count": null,
   "id": "ed36c063",
   "metadata": {
    "ExecuteTime": {
     "end_time": "2024-12-27T19:59:42.810153Z",
     "start_time": "2024-12-27T19:59:42.802936Z"
    }
   },
   "outputs": [],
   "source": [
    "sala_01 = Sala(3, 4)\n",
    "print(sala_01)"
   ]
  },
  {
   "cell_type": "markdown",
   "id": "26bd65ba",
   "metadata": {},
   "source": [
    "**Salida esperada:**\n",
    "```python\n",
    "  fila 2, columna 0: tipo NORMAL   (precio  8.00€) -libre-\n",
    "  fila 2, columna 1: tipo NORMAL   (precio  8.00€) -libre-\n",
    "  fila 2, columna 2: tipo NORMAL   (precio  8.00€) -libre-\n",
    "  fila 2, columna 3: tipo NORMAL   (precio  8.00€) -libre-\n",
    "\n",
    "  fila 1, columna 0: tipo NORMAL   (precio  8.00€) -libre-\n",
    "  fila 1, columna 1: tipo NORMAL   (precio  8.00€) -libre-\n",
    "  fila 1, columna 2: tipo NORMAL   (precio  8.00€) -libre-\n",
    "  fila 1, columna 3: tipo NORMAL   (precio  8.00€) -libre-\n",
    "\n",
    "  fila 0, columna 0: tipo MEDIO    (precio 12.00€) -libre-\n",
    "  fila 0, columna 1: tipo MEDIO    (precio 12.00€) -libre-\n",
    "  fila 0, columna 2: tipo MEDIO    (precio 12.00€) -libre-\n",
    "  fila 0, columna 3: tipo MEDIO    (precio 12.00€) -libre-\n",
    "```"
   ]
  },
  {
   "cell_type": "markdown",
   "id": "71db61a3",
   "metadata": {},
   "source": [
    "#### 2.- Recuperar una *butaca*. "
   ]
  },
  {
   "cell_type": "code",
   "execution_count": null,
   "id": "b001eb68",
   "metadata": {
    "ExecuteTime": {
     "end_time": "2024-12-27T19:59:44.083337Z",
     "start_time": "2024-12-27T19:59:44.075889Z"
    }
   },
   "outputs": [],
   "source": [
    "butaca = sala_01.recuperar_butaca(1, 3)\n",
    "print('butaca =', butaca)"
   ]
  },
  {
   "cell_type": "markdown",
   "id": "62099bdf",
   "metadata": {},
   "source": [
    "**Salida esperada:** \n",
    "```python\n",
    "butaca = tipo NORMAL   (precio  8.00€) -libre-\n",
    "```"
   ]
  },
  {
   "cell_type": "code",
   "execution_count": null,
   "id": "102756e4",
   "metadata": {
    "ExecuteTime": {
     "end_time": "2024-12-27T19:59:45.572068Z",
     "start_time": "2024-12-27T19:59:45.564660Z"
    }
   },
   "outputs": [],
   "source": [
    "sala_01.recuperar_butaca(3, 1)"
   ]
  },
  {
   "cell_type": "markdown",
   "id": "983d1454",
   "metadata": {},
   "source": [
    "**Salida esperada:** Se lanza una excepción\n",
    "```python\n",
    "IndexError: Posicion fila=3 y columna=1 no válida\n",
    "```"
   ]
  },
  {
   "cell_type": "code",
   "execution_count": null,
   "id": "2645fbc6",
   "metadata": {
    "ExecuteTime": {
     "end_time": "2024-12-27T20:00:03.602428Z",
     "start_time": "2024-12-27T20:00:03.594857Z"
    },
    "scrolled": false
   },
   "outputs": [],
   "source": [
    "sala_01.recuperar_butaca(2, 4)"
   ]
  },
  {
   "cell_type": "markdown",
   "id": "d7026075",
   "metadata": {},
   "source": [
    "**Salida esperada:** Se lanza una excepción\n",
    "```python\n",
    "IndexError: Posicion fila=2 y columna=4 no válida\n",
    "```"
   ]
  },
  {
   "cell_type": "code",
   "execution_count": null,
   "id": "7731adbb",
   "metadata": {
    "ExecuteTime": {
     "end_time": "2024-12-27T20:00:05.940932Z",
     "start_time": "2024-12-27T20:00:05.933865Z"
    },
    "scrolled": true
   },
   "outputs": [],
   "source": [
    "sala_01.recuperar_butaca('a', 'b')"
   ]
  },
  {
   "cell_type": "markdown",
   "id": "2b8716c6",
   "metadata": {},
   "source": [
    "**Salida esperada:** Se lanza una excepción\n",
    "```python\n",
    "IndexError: Posicion fila='a' y columna='b' no válida\n",
    "```"
   ]
  },
  {
   "cell_type": "markdown",
   "id": "1b90b5bd",
   "metadata": {},
   "source": [
    "#### 3.- Obtener las *butacas* libres y comprobar si la sala está *llena*. \n",
    "- Las propiedades son de tipo lectura, no se podrá modificar su contenido asignándoles valor directamente."
   ]
  },
  {
   "cell_type": "code",
   "execution_count": null,
   "id": "7562c972",
   "metadata": {
    "ExecuteTime": {
     "end_time": "2024-12-27T20:00:09.942796Z",
     "start_time": "2024-12-27T20:00:09.935938Z"
    }
   },
   "outputs": [],
   "source": [
    "print(f'{sala_01.butacas_libres = }')\n",
    "print(f'{sala_01.sala_llena     = }')"
   ]
  },
  {
   "cell_type": "markdown",
   "id": "38fa4f5c",
   "metadata": {},
   "source": [
    "**Salida esperada:**\n",
    "```python\n",
    "sala_01.butacas_libres = 12\n",
    "sala_01.sala_llena     = False\n",
    "```"
   ]
  },
  {
   "cell_type": "code",
   "execution_count": null,
   "id": "7956cb26",
   "metadata": {
    "ExecuteTime": {
     "end_time": "2024-12-27T20:00:11.291731Z",
     "start_time": "2024-12-27T20:00:11.284189Z"
    }
   },
   "outputs": [],
   "source": [
    "sala_01.butacas_libres = 100"
   ]
  },
  {
   "cell_type": "markdown",
   "id": "59b25728",
   "metadata": {},
   "source": [
    "**Salida esperada:** Se lanza una excepción\n",
    "```\n",
    " AttributeError: can't set attribute \n",
    "```"
   ]
  },
  {
   "cell_type": "code",
   "execution_count": null,
   "id": "46ec0eef",
   "metadata": {
    "ExecuteTime": {
     "end_time": "2024-12-27T20:00:12.421876Z",
     "start_time": "2024-12-27T20:00:12.414857Z"
    }
   },
   "outputs": [],
   "source": [
    "sala_01.sala_llena = True"
   ]
  },
  {
   "cell_type": "markdown",
   "id": "086a3448",
   "metadata": {},
   "source": [
    "**Salida esperada:** Se lanza una excepción\n",
    "```\n",
    " AttributeError: can't set attribute \n",
    "```"
   ]
  },
  {
   "cell_type": "markdown",
   "id": "f4492c0d",
   "metadata": {},
   "source": [
    "#### 4.- Modificar *butacas*. "
   ]
  },
  {
   "cell_type": "markdown",
   "id": "002a7bc0",
   "metadata": {},
   "source": [
    " - Los párametros proporcionados a `modificar_butaca` deberán ser correctos."
   ]
  },
  {
   "cell_type": "code",
   "execution_count": null,
   "id": "60d7f472",
   "metadata": {
    "ExecuteTime": {
     "end_time": "2024-12-27T20:00:16.088812Z",
     "start_time": "2024-12-27T20:00:16.080813Z"
    },
    "scrolled": true
   },
   "outputs": [],
   "source": [
    "sala_01.modificar_butaca(7, 0, 'HUECO')"
   ]
  },
  {
   "cell_type": "markdown",
   "id": "3507fd83",
   "metadata": {},
   "source": [
    "**Salida esperada:** Se lanza una excepción\n",
    "```python\n",
    "IndexError: Posicion fila=7 y columna=0 no válida\n",
    "```"
   ]
  },
  {
   "cell_type": "code",
   "execution_count": null,
   "id": "413af5fb",
   "metadata": {
    "ExecuteTime": {
     "end_time": "2024-12-27T20:00:43.203789Z",
     "start_time": "2024-12-27T20:00:43.195860Z"
    },
    "scrolled": false
   },
   "outputs": [],
   "source": [
    "sala_01.modificar_butaca(2, 0, 'HUECO')"
   ]
  },
  {
   "cell_type": "markdown",
   "id": "573e0637",
   "metadata": {},
   "source": [
    "**Salida esperada:** Se lanza una excepción\n",
    "```python\n",
    "ValueError: El tipo debe ser una instancia de TipoButaca\n",
    "```"
   ]
  },
  {
   "cell_type": "markdown",
   "id": "eaa74530",
   "metadata": {},
   "source": [
    " - Las butacas de tipo `HUECO` siempre estarán *ocupadas*."
   ]
  },
  {
   "cell_type": "code",
   "execution_count": null,
   "id": "55ca110d",
   "metadata": {
    "ExecuteTime": {
     "end_time": "2024-12-27T20:01:19.272199Z",
     "start_time": "2024-12-27T20:01:19.260929Z"
    },
    "scrolled": true
   },
   "outputs": [],
   "source": [
    "print(f'{sala_01.butacas_libres = }')\n",
    "sala_01.modificar_butaca(2, 0, TipoButaca.HUECO)\n",
    "print('butaca =', sala_01.recuperar_butaca(2, 0))\n",
    "sala_01.modificar_butaca(2, 3, TipoButaca.HUECO)\n",
    "print('butaca =', sala_01.recuperar_butaca(2, 3))\n",
    "print(f'{sala_01.butacas_libres = }')"
   ]
  },
  {
   "cell_type": "markdown",
   "id": "5a0679ae",
   "metadata": {},
   "source": [
    "**Salida esperada:**\n",
    "```python\n",
    "sala_01.butacas_libres = 12\n",
    "Cambiando la butaca de tipo MEDIO a HUECO.\n",
    "butaca = tipo HUECO    (precio  0.00€) -ocupada-\n",
    "Cambiando la butaca de tipo HUECO a HUECO.\n",
    "butaca = tipo HUECO    (precio  0.00€) -ocupada-\n",
    "sala_01.butacas_libres = 10\n",
    "```"
   ]
  },
  {
   "cell_type": "code",
   "execution_count": null,
   "id": "8811427d",
   "metadata": {
    "ExecuteTime": {
     "end_time": "2024-12-27T20:01:20.127328Z",
     "start_time": "2024-12-27T20:01:20.115660Z"
    }
   },
   "outputs": [],
   "source": [
    "print(f'{sala_01.butacas_libres = }')\n",
    "sala_01.modificar_butaca(2, 0, TipoButaca.HUECO)\n",
    "print('butaca =', sala_01.recuperar_butaca(2, 0))\n",
    "sala_01.modificar_butaca(2, 3, TipoButaca.HUECO)\n",
    "print('butaca =', sala_01.recuperar_butaca(2, 3))\n",
    "print(f'{sala_01.butacas_libres = }')"
   ]
  },
  {
   "cell_type": "markdown",
   "id": "ecc72b62",
   "metadata": {},
   "source": [
    "**Salida esperada:**\n",
    "```python\n",
    "sala_01.butacas_libres = 10\n",
    "Cambiando la butaca de tipo MEDIO a HUECO.\n",
    "butaca = tipo HUECO    (precio  0.00€) -ocupada-\n",
    "Cambiando la butaca de tipo HUECO a HUECO.\n",
    "butaca = tipo HUECO    (precio  0.00€) -ocupada-\n",
    "sala_01.butacas_libres = 10\n",
    "```"
   ]
  },
  {
   "cell_type": "code",
   "execution_count": null,
   "id": "8c142fd3",
   "metadata": {
    "ExecuteTime": {
     "end_time": "2024-12-27T20:01:20.803610Z",
     "start_time": "2024-12-27T20:01:20.794356Z"
    },
    "scrolled": true
   },
   "outputs": [],
   "source": [
    "print(f'{sala_01.butacas_libres = }')\n",
    "sala_01.modificar_butaca(2, 0, TipoButaca.MEDIO)\n",
    "print('butaca =', sala_01.recuperar_butaca(2, 0))\n",
    "print(f'{sala_01.butacas_libres = }')"
   ]
  },
  {
   "cell_type": "markdown",
   "id": "287624b0",
   "metadata": {},
   "source": [
    "**Salida esperada:**\n",
    "```python\n",
    "sala_01.butacas_libres = 10\n",
    "Cambiando la butaca de tipo HUECO a MEDIO.\n",
    "butaca = tipo MEDIO    (precio 12.00€) -libre-\n",
    "sala_01.butacas_libres = 11\n",
    "```"
   ]
  },
  {
   "cell_type": "code",
   "execution_count": null,
   "id": "618f4f54",
   "metadata": {
    "ExecuteTime": {
     "end_time": "2024-12-27T20:01:21.420152Z",
     "start_time": "2024-12-27T20:01:21.404222Z"
    }
   },
   "outputs": [],
   "source": [
    "print(f'{sala_01.butacas_libres = }')\n",
    "sala_01.modificar_butaca(2, 0, TipoButaca.HUECO)\n",
    "print('butaca =', sala_01.recuperar_butaca(2, 0))\n",
    "sala_01.modificar_butaca(1, 3, TipoButaca.MEDIO)\n",
    "print('butaca =', sala_01.recuperar_butaca(1, 3))\n",
    "sala_01.modificar_butaca(1, 1, TipoButaca.SUPERIOR)\n",
    "print('butaca =', sala_01.recuperar_butaca(1, 1))\n",
    "sala_01.modificar_butaca(1, 2, TipoButaca.SUPERIOR)\n",
    "print('butaca =', sala_01.recuperar_butaca(1, 2))\n",
    "print(f'{sala_01.butacas_libres = }')"
   ]
  },
  {
   "cell_type": "markdown",
   "id": "862abe35",
   "metadata": {},
   "source": [
    "**Salida esperada:**\n",
    "```python\n",
    "sala_01.butacas_libres = 11\n",
    "Cambiando la butaca de tipo MEDIO a HUECO.\n",
    "butaca = tipo HUECO    (precio  0.00€) -ocupada-\n",
    "Cambiando la butaca de tipo MEDIO a MEDIO.\n",
    "butaca = tipo MEDIO    (precio 12.00€) -libre-\n",
    "Cambiando la butaca de tipo SUPERIOR a SUPERIOR.\n",
    "butaca = tipo SUPERIOR (precio 20.00€) -libre-\n",
    "Cambiando la butaca de tipo SUPERIOR a SUPERIOR.\n",
    "butaca = tipo SUPERIOR (precio 20.00€) -libre-\n",
    "sala_01.butacas_libres = 10\n",
    "```"
   ]
  },
  {
   "cell_type": "markdown",
   "id": "65c83f11",
   "metadata": {},
   "source": [
    "#### 5.- Ocupar/liberar butacas.\n",
    "- Ocupar una butaca *ocupada* o liberar una butaca *libre* no tiene efecto."
   ]
  },
  {
   "cell_type": "code",
   "execution_count": null,
   "id": "708c87ec",
   "metadata": {
    "ExecuteTime": {
     "end_time": "2024-12-27T20:01:22.654144Z",
     "start_time": "2024-12-27T20:01:22.635812Z"
    },
    "scrolled": true
   },
   "outputs": [],
   "source": [
    "print(f'{sala_01.butacas_libres = }')\n",
    "sala_01.ocupar_butaca(1, 0)\n",
    "print('butaca =', sala_01.recuperar_butaca(1, 0))\n",
    "sala_01.ocupar_butaca(1, 1)\n",
    "print('butaca =', sala_01.recuperar_butaca(1, 1))\n",
    "sala_01.ocupar_butaca(1, 2)\n",
    "print('butaca =', sala_01.recuperar_butaca(1, 2))\n",
    "sala_01.ocupar_butaca(1, 3)\n",
    "print('butaca =', sala_01.recuperar_butaca(1, 3))\n",
    "sala_01.ocupar_butaca(0, 2)\n",
    "print('butaca =', sala_01.recuperar_butaca(0, 2))\n",
    "sala_01.ocupar_butaca(0, 2)\n",
    "sala_01.ocupar_butaca(0, 2)\n",
    "print(f'{sala_01.butacas_libres = }')"
   ]
  },
  {
   "cell_type": "markdown",
   "id": "298d63c3",
   "metadata": {},
   "source": [
    "**Salida esperada:**\n",
    "```python\n",
    "sala_01.butacas_libres = 10\n",
    "Butaca ocupada.\n",
    "butaca = tipo NORMAL   (precio  8.00€) -ocupada-\n",
    "Butaca ocupada.\n",
    "butaca = tipo SUPERIOR (precio 20.00€) -ocupada-\n",
    "Butaca ocupada.\n",
    "butaca = tipo SUPERIOR (precio 20.00€) -ocupada-\n",
    "Butaca ocupada.\n",
    "butaca = tipo MEDIO    (precio 12.00€) -ocupada-\n",
    "Butaca ocupada.\n",
    "butaca = tipo MEDIO    (precio 12.00€) -ocupada-\n",
    "sala_01.butacas_libres = 5\n",
    "```"
   ]
  },
  {
   "cell_type": "code",
   "execution_count": null,
   "id": "cd9cf69c",
   "metadata": {
    "ExecuteTime": {
     "end_time": "2024-12-27T20:01:23.547655Z",
     "start_time": "2024-12-27T20:01:23.534532Z"
    },
    "scrolled": true
   },
   "outputs": [],
   "source": [
    "print(f'{sala_01.butacas_libres = }')\n",
    "print('butaca =', sala_01.recuperar_butaca(1, 3))\n",
    "sala_01.liberar_butaca(1, 3)\n",
    "print('butaca =', sala_01.recuperar_butaca(1, 3))\n",
    "sala_01.liberar_butaca(1, 3)\n",
    "sala_01.liberar_butaca(1, 3)\n",
    "print(f'{sala_01.butacas_libres = }')"
   ]
  },
  {
   "cell_type": "markdown",
   "id": "ddcba3aa",
   "metadata": {},
   "source": [
    "**Salida esperada:**\n",
    "```python\n",
    "sala_01.butacas_libres = 5\n",
    "butaca = tipo MEDIO    (precio 12.00€) -ocupada-\n",
    "Butaca liberada.\n",
    "butaca = tipo MEDIO    (precio 12.00€) -libre-\n",
    "sala_01.butacas_libres = 6\n",
    "```"
   ]
  },
  {
   "cell_type": "markdown",
   "id": "ecf348d5",
   "metadata": {},
   "source": [
    "- Las butacas de tipo `HUECO` siempre están ocupadas y no se pueden ocupar o liberar."
   ]
  },
  {
   "cell_type": "code",
   "execution_count": null,
   "id": "30301d3b",
   "metadata": {
    "ExecuteTime": {
     "end_time": "2024-12-27T20:01:24.468423Z",
     "start_time": "2024-12-27T20:01:24.457875Z"
    },
    "scrolled": true
   },
   "outputs": [],
   "source": [
    "print(f'{sala_01.butacas_libres = }')\n",
    "print('butaca =', sala_01.recuperar_butaca(2, 0))\n",
    "sala_01.ocupar_butaca(2, 0)\n",
    "print('butaca =', sala_01.recuperar_butaca(2, 0))\n",
    "sala_01.ocupar_butaca(2, 0)\n",
    "sala_01.ocupar_butaca(2, 0)\n",
    "print(f'{sala_01.butacas_libres = }')"
   ]
  },
  {
   "cell_type": "markdown",
   "id": "78264508",
   "metadata": {},
   "source": [
    "**Salida esperada:**\n",
    "```python\n",
    "sala_01.butacas_libres = 6\n",
    "butaca = tipo HUECO    (precio  0.00€) -ocupada-\n",
    "butaca = tipo HUECO    (precio  0.00€) -ocupada-\n",
    "sala_01.butacas_libres = 6\n",
    "```"
   ]
  },
  {
   "cell_type": "code",
   "execution_count": null,
   "id": "b330deaf",
   "metadata": {
    "ExecuteTime": {
     "end_time": "2024-12-27T20:01:25.111804Z",
     "start_time": "2024-12-27T20:01:25.100596Z"
    }
   },
   "outputs": [],
   "source": [
    "print(f'{sala_01.butacas_libres = }')\n",
    "print('butaca =', sala_01.recuperar_butaca(2, 0))\n",
    "sala_01.liberar_butaca(2, 0)\n",
    "print('butaca =', sala_01.recuperar_butaca(2, 0))\n",
    "sala_01.liberar_butaca(2, 0)\n",
    "sala_01.liberar_butaca(2, 0)\n",
    "print(f'{sala_01.butacas_libres = }')"
   ]
  },
  {
   "cell_type": "markdown",
   "id": "1374afda",
   "metadata": {},
   "source": [
    "**Salida esperada:**\n",
    "```python\n",
    "sala_01.butacas_libres = 6\n",
    "butaca = tipo HUECO    (precio  0.00€) -ocupada-\n",
    "butaca = tipo HUECO    (precio  0.00€) -ocupada-\n",
    "sala_01.butacas_libres = 6\n",
    "```"
   ]
  },
  {
   "cell_type": "markdown",
   "id": "a1de9164",
   "metadata": {},
   "source": [
    "#### 6.- Buscar butaca libre.\n",
    "- La búsqueda de la butaca libre comenzará por la fila de mayor número y la columna de menor número. Además, deberá ser cícilica, es decir, una vez recorridas todas las butacas libres de la sala volverá a recuperar la primera butaca libre."
   ]
  },
  {
   "cell_type": "code",
   "execution_count": null,
   "id": "48005ad5",
   "metadata": {
    "ExecuteTime": {
     "end_time": "2024-12-27T20:01:25.965328Z",
     "start_time": "2024-12-27T20:01:25.954458Z"
    }
   },
   "outputs": [],
   "source": [
    "for i in range(8):\n",
    "    print('butaca =', sala_01.buscar_butaca_libre())"
   ]
  },
  {
   "cell_type": "markdown",
   "id": "9eee90ba",
   "metadata": {},
   "source": [
    "**Salida esperada:**\n",
    "```python\n",
    "butaca = (2, 1, Butaca(TipoButaca.NORMAL, False))\n",
    "butaca = (2, 2, Butaca(TipoButaca.NORMAL, False))\n",
    "butaca = (1, 3, Butaca(TipoButaca.MEDIO, False))\n",
    "butaca = (0, 0, Butaca(TipoButaca.NORMAL, False))\n",
    "butaca = (0, 1, Butaca(TipoButaca.NORMAL, False))\n",
    "butaca = (0, 3, Butaca(TipoButaca.NORMAL, False))\n",
    "butaca = (2, 1, Butaca(TipoButaca.NORMAL, False))\n",
    "butaca = (2, 2, Butaca(TipoButaca.NORMAL, False))\n",
    "```"
   ]
  },
  {
   "cell_type": "markdown",
   "id": "bab394c5",
   "metadata": {},
   "source": [
    "#### 7.- Visualizar el estado de la sala y obtener la recaudación."
   ]
  },
  {
   "cell_type": "code",
   "execution_count": null,
   "id": "72638b4d",
   "metadata": {
    "ExecuteTime": {
     "end_time": "2024-12-27T20:01:27.013049Z",
     "start_time": "2024-12-27T20:01:27.005464Z"
    },
    "scrolled": true
   },
   "outputs": [],
   "source": [
    "print(sala_01)"
   ]
  },
  {
   "cell_type": "markdown",
   "id": "5121e3b6",
   "metadata": {},
   "source": [
    "**Salida esperada:**\n",
    "```python\n",
    "  fila 2, columna 0: tipo HUECO    (precio  0.00€) -ocupada-\n",
    "  fila 2, columna 1: tipo NORMAL   (precio  8.00€) -libre-\n",
    "  fila 2, columna 2: tipo NORMAL   (precio  8.00€) -libre-\n",
    "  fila 2, columna 3: tipo HUECO    (precio  0.00€) -ocupada-\n",
    "\n",
    "  fila 1, columna 0: tipo NORMAL   (precio  8.00€) -ocupada-\n",
    "  fila 1, columna 1: tipo SUPERIOR (precio 20.00€) -ocupada-\n",
    "  fila 1, columna 2: tipo SUPERIOR (precio 20.00€) -ocupada-\n",
    "  fila 1, columna 3: tipo MEDIO    (precio 12.00€) -libre-\n",
    "\n",
    "  fila 0, columna 0: tipo MEDIO    (precio 12.00€) -libre-\n",
    "  fila 0, columna 1: tipo MEDIO    (precio 12.00€) -libre-\n",
    "  fila 0, columna 2: tipo MEDIO    (precio 12.00€) -ocupada-\n",
    "  fila 0, columna 3: tipo MEDIO    (precio 12.00€) -libre-\n",
    "```"
   ]
  },
  {
   "cell_type": "code",
   "execution_count": null,
   "id": "6db6a779",
   "metadata": {
    "ExecuteTime": {
     "end_time": "2024-12-27T20:01:27.712657Z",
     "start_time": "2024-12-27T20:01:27.705420Z"
    }
   },
   "outputs": [],
   "source": [
    "print(f'{sala_01.recaudacion() = :.2f}€')"
   ]
  },
  {
   "cell_type": "markdown",
   "id": "f695709d",
   "metadata": {},
   "source": [
    "**Salida esperada:**\n",
    "```python\n",
    "sala_01.recaudacion() = 60.00€\n",
    "```"
   ]
  },
  {
   "cell_type": "markdown",
   "id": "a45908ee",
   "metadata": {},
   "source": [
    "### Valoraciones del examen:\n",
    "- **Clase Butaca**\n",
    "  - implementación utilizando la clase *TipoButaca*: 4 puntos\n",
    "  - implementación sin utilizar la clase *TipoButaca*: 3 puntos\n",
    "- **Clase Sala** \n",
    "  - implementación utilizando la clase *Butaca*: 6 puntos\n",
    "  - implementación sin utilizar la clase *Butaca*: 5 puntos\n",
    "  \n",
    "#### NOTA: Se valorarán las versiones más óptimas del código. Sólo se pueden utilizar las librerías básicas de python."
   ]
  }
 ],
 "metadata": {
  "kernelspec": {
   "display_name": "Python 3",
   "language": "python",
   "name": "python3"
  },
  "language_info": {
   "codemirror_mode": {
    "name": "ipython",
    "version": 3
   },
   "file_extension": ".py",
   "mimetype": "text/x-python",
   "name": "python",
   "nbconvert_exporter": "python",
   "pygments_lexer": "ipython3",
   "version": "3.8.5"
  },
  "toc": {
   "base_numbering": 1,
   "nav_menu": {},
   "number_sections": false,
   "sideBar": true,
   "skip_h1_title": false,
   "title_cell": "Table of Contents",
   "title_sidebar": "Contents",
   "toc_cell": false,
   "toc_position": {},
   "toc_section_display": true,
   "toc_window_display": false
  }
 },
 "nbformat": 4,
 "nbformat_minor": 5
}
